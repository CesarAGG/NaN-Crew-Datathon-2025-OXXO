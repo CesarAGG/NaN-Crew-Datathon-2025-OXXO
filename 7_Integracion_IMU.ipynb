{
 "cells": [
  {
   "cell_type": "code",
   "execution_count": null,
   "id": "1e913b53",
   "metadata": {},
   "outputs": [],
   "source": [
    "import geopandas as gpd\n",
    "import pandas as pd\n",
    "import os"
   ]
  },
  {
   "cell_type": "code",
   "execution_count": null,
   "id": "150e68a3",
   "metadata": {},
   "outputs": [],
   "source": [
    "RUTA_TIENDAS_CON_CENSO_DENUE_OSM_INPUT = './datos/output/tiendas_train_censo_denue_osm.gpkg'\n",
    "LAYER_TIENDAS_INPUT = 'tiendas_censo_denue_osm' \n",
    "RUTA_IMU_CSV_DIR = './datos/imu_data/' \n",
    "ARCHIVO_IMU_AGEB_CSV = RUTA_IMU_CSV_DIR + 'indice_marginacion_urbana_ageb_2020.csv' # Tu archivo\n",
    "RUTA_DATOS_OUTPUT = './datos/output/'\n",
    "ARCHIVO_SALIDA_GPKG = RUTA_DATOS_OUTPUT + 'tiendas_train_completo_con_imu.gpkg'\n",
    "COL_IMU_CVEGEO_EXISTENTE = 'CVE_AGEB'\n",
    "COL_IMU_INDICE = 'IM_2020'    \n",
    "COL_IMU_GRADO = 'GM_2020'    \n",
    "COL_IMU_INDICE_NACIONAL = 'IMN_2020'\n",
    "\n",
    "# Crear directorio de output si no existe\n",
    "if not os.path.exists(RUTA_DATOS_OUTPUT):\n",
    "    os.makedirs(RUTA_DATOS_OUTPUT)\n",
    "if not os.path.exists(RUTA_IMU_CSV_DIR): # Solo por si acaso para el ejemplo\n",
    "    os.makedirs(RUTA_IMU_CSV_DIR)\n",
    "    print(f\"Directorio creado: {RUTA_IMU_CSV_DIR}. Por favor, coloca tu archivo IMU allí.\")\n",
    "# --- Fin de Configuración ---\n",
    "\n",
    "print(\"--- Iniciando Integración del Índice de Marginación Urbana (IMU) ---\")"
   ]
  },
  {
   "cell_type": "code",
   "execution_count": null,
   "id": "5179bcef",
   "metadata": {},
   "outputs": [],
   "source": [
    "# --- 1. Cargar el GeoDataFrame de Tiendas ---\n",
    "try:\n",
    "    tiendas_gdf = gpd.read_file(RUTA_TIENDAS_CON_CENSO_DENUE_OSM_INPUT, layer=LAYER_TIENDAS_INPUT)\n",
    "    print(f\"Tiendas cargadas: {len(tiendas_gdf)}. CRS: {tiendas_gdf.crs}\")\n",
    "    if 'CVEGEO' not in tiendas_gdf.columns: # La clave en tiendas_gdf se llama 'CVEGEO' (del shapefile)\n",
    "        raise ValueError(\"Columna 'CVEGEO' no encontrada en tiendas_gdf. Se necesita para el merge con IMU.\")\n",
    "    tiendas_gdf['CVEGEO'] = tiendas_gdf['CVEGEO'].astype(str).str.strip()\n",
    "except Exception as e:\n",
    "    print(f\"Error al cargar tiendas: {e}\")\n",
    "    raise"
   ]
  },
  {
   "cell_type": "code",
   "execution_count": null,
   "id": "7be1f6e5",
   "metadata": {},
   "outputs": [],
   "source": [
    "# --- 2. Cargar y Procesar Datos del IMU ---\n",
    "try:\n",
    "    print(f\"\\nCargando datos del IMU desde: {ARCHIVO_IMU_AGEB_CSV}\")\n",
    "    imu_df = pd.read_csv(ARCHIVO_IMU_AGEB_CSV, encoding='utf-8-sig') \n",
    "    print(f\"  {len(imu_df)} registros IMU cargados.\")\n",
    "    print(\"  Primeras filas del IMU:\")\n",
    "    print(imu_df.head())\n",
    "    print(\"\\n  Columnas disponibles en el IMU:\")\n",
    "    print(imu_df.columns.tolist())\n",
    "\n",
    "    # Verificar columnas necesarias del IMU\n",
    "    imu_cols_necesarias_para_analisis = [COL_IMU_CVEGEO_EXISTENTE, COL_IMU_INDICE, COL_IMU_GRADO, COL_IMU_INDICE_NACIONAL]\n",
    "    missing_cols_imu = [col for col in imu_cols_necesarias_para_analisis if col not in imu_df.columns]\n",
    "    if missing_cols_imu:\n",
    "        raise ValueError(f\"Columnas IMU para análisis faltantes: {missing_cols_imu}. Columnas disponibles: {imu_df.columns.tolist()}. Ajusta la configuración.\")\n",
    "\n",
    "    # Preparar la clave CVEGEO del IMU (a string, sin espacios)\n",
    "    imu_df[COL_IMU_CVEGEO_EXISTENTE] = imu_df[COL_IMU_CVEGEO_EXISTENTE].astype(str).str.strip()\n",
    "    print(f\"  Clave '{COL_IMU_CVEGEO_EXISTENTE}' del IMU preparada como string.\")\n",
    "    \n",
    "    # Seleccionar solo las columnas que necesitamos para el merge y análisis\n",
    "    cols_imu_finales = [COL_IMU_CVEGEO_EXISTENTE, COL_IMU_INDICE, COL_IMU_GRADO, COL_IMU_INDICE_NACIONAL]\n",
    "    imu_para_merge_df = imu_df[cols_imu_finales].drop_duplicates(subset=[COL_IMU_CVEGEO_EXISTENTE])\n",
    "\n",
    "except FileNotFoundError:\n",
    "    print(f\"Error: Archivo IMU no encontrado en '{ARCHIVO_IMU_AGEB_CSV}'.\")\n",
    "    raise\n",
    "except Exception as e:\n",
    "    print(f\"Error al cargar o procesar el archivo IMU: {e}\")\n",
    "    raise"
   ]
  },
  {
   "cell_type": "code",
   "execution_count": null,
   "id": "8c5ba329",
   "metadata": {},
   "outputs": [],
   "source": [
    "# --- 3. Unir (Merge) Datos del IMU con el GeoDataFrame de Tiendas ---\n",
    "print(f\"\\nRealizando merge entre tiendas_gdf y datos del IMU usando 'CVEGEO' (de tiendas) y '{COL_IMU_CVEGEO_EXISTENTE}' (de IMU)...\")\n",
    "try:\n",
    "    tiendas_final_gdf = tiendas_gdf.merge(\n",
    "        imu_para_merge_df,\n",
    "        left_on='CVEGEO',  # Clave en tiendas_gdf (viene del shapefile 00a.shp)\n",
    "        right_on=COL_IMU_CVEGEO_EXISTENTE, # Clave en imu_df\n",
    "        how='left'\n",
    "    )\n",
    "    print(f\"Merge con IMU completado. Dataset resultante: {len(tiendas_final_gdf)} filas.\")\n",
    "\n",
    "    tiendas_sin_imu_match = tiendas_final_gdf[COL_IMU_INDICE].isnull().sum() \n",
    "    print(f\"Número de tiendas sin datos del IMU correspondientes: {tiendas_sin_imu_match} de {len(tiendas_final_gdf)}\")\n",
    "\n",
    "    # Si la columna clave del IMU se añadió y es diferente de 'CVEGEO', y es redundante, eliminarla\n",
    "    if COL_IMU_CVEGEO_EXISTENTE != 'CVEGEO' and COL_IMU_CVEGEO_EXISTENTE in tiendas_final_gdf.columns:\n",
    "        tiendas_final_gdf = tiendas_final_gdf.drop(columns=[COL_IMU_CVEGEO_EXISTENTE])\n",
    "        print(f\"Columna clave redundante del IMU '{COL_IMU_CVEGEO_EXISTENTE}' eliminada.\")\n",
    "except Exception as e:\n",
    "    print(f\"Error durante el merge con IMU: {e}\")\n",
    "    print(\"Verifica que las columnas CVEGEO en ambos DataFrames tengan el mismo formato y valores coincidentes.\")\n",
    "    raise"
   ]
  },
  {
   "cell_type": "code",
   "execution_count": null,
   "id": "ce004ee7",
   "metadata": {},
   "outputs": [],
   "source": [
    "# --- 4. Guardar el Resultado ---\n",
    "print(\"\\n--- Guardando GeoDataFrame Enriquecido con IMU ---\")\n",
    "print(\"Primeras filas del dataset final con datos IMU:\")\n",
    "pd.set_option('display.max_columns', None)\n",
    "print(tiendas_final_gdf.head())\n",
    "\n",
    "print(\"\\nColumnas finales:\")\n",
    "print(tiendas_final_gdf.columns.tolist())\n",
    "\n",
    "try:\n",
    "    tiendas_final_gdf.to_file(ARCHIVO_SALIDA_GPKG, driver='GPKG', layer='tiendas_completo_con_imu')\n",
    "    print(f\"\\nDataset enriquecido guardado como GeoPackage en '{ARCHIVO_SALIDA_GPKG}'\")\n",
    "except Exception as e:\n",
    "    print(f\"Error al guardar el archivo de salida GeoPackage: {e}\")\n",
    "\n",
    "print(\"\\n--- Integración del Índice de Marginación Urbana Completada ---\")"
   ]
  }
 ],
 "metadata": {
  "kernelspec": {
   "display_name": ".venv",
   "language": "python",
   "name": "python3"
  },
  "language_info": {
   "codemirror_mode": {
    "name": "ipython",
    "version": 3
   },
   "file_extension": ".py",
   "mimetype": "text/x-python",
   "name": "python",
   "nbconvert_exporter": "python",
   "pygments_lexer": "ipython3",
   "version": "3.11.12"
  }
 },
 "nbformat": 4,
 "nbformat_minor": 5
}
