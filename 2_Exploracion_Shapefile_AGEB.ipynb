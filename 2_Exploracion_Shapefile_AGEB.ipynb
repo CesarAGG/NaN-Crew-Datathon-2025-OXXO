{
 "cells": [
  {
   "cell_type": "code",
   "execution_count": null,
   "id": "782b57bb",
   "metadata": {},
   "outputs": [],
   "source": [
    "import geopandas as gpd\n",
    "import matplotlib.pyplot as plt"
   ]
  },
  {
   "cell_type": "code",
   "execution_count": null,
   "id": "1781f6a4",
   "metadata": {},
   "outputs": [],
   "source": [
    "# --- Configuración de Rutas y Nombres de Archivo ---\n",
    "RUTA_MGN_SHAPEFILES = './datos/mgn/conjunto_de_datos/'\n",
    "NOMBRE_SHAPEFILE_AGEB = '00a.shp' # Este es tu shapefile nacional de AGEBs\n",
    "\n",
    "RUTA_COMPLETA_SHP_AGEB = RUTA_MGN_SHAPEFILES + NOMBRE_SHAPEFILE_AGEB\n",
    "\n",
    "print(f\"Intentando cargar el shapefile: {RUTA_COMPLETA_SHP_AGEB}\")"
   ]
  },
  {
   "cell_type": "code",
   "execution_count": null,
   "id": "91667dd2",
   "metadata": {},
   "outputs": [],
   "source": [
    "# --- 1. Cargar el Shapefile de AGEBs ---\n",
    "try:\n",
    "    ageb_gdf = gpd.read_file(RUTA_COMPLETA_SHP_AGEB)\n",
    "    print(\"\\nShapefile de AGEBs cargado exitosamente.\")\n",
    "except Exception as e:\n",
    "    print(f\"Error al cargar el shapefile de AGEBs '{RUTA_COMPLETA_SHP_AGEB}': {e}\")\n",
    "    print(\"Asegúrate de que el archivo .shp y todos sus archivos asociados (.dbf, .shx, .prj, etc.)\")\n",
    "    print(f\"se encuentren en la ruta: {RUTA_MGN_SHAPEFILES}\")\n",
    "    print(\"También, podrías necesitar instalar 'pyogrio' si hay problemas con fiona: uv pip install pyogrio\")\n",
    "    raise # Detener si no se puede cargar"
   ]
  },
  {
   "cell_type": "code",
   "execution_count": null,
   "id": "70f4a560",
   "metadata": {},
   "outputs": [],
   "source": [
    "# --- 2. Inspección Inicial del GeoDataFrame de AGEBs ---\n",
    "print(\"\\n--- Inspección Inicial del GeoDataFrame de AGEBs ---\")\n",
    "print(\"\\nPrimeras 5 filas (head):\")\n",
    "print(ageb_gdf.head())\n",
    "\n",
    "print(f\"\\nNúmero total de geometrías (AGEBs probables): {len(ageb_gdf)}\")\n",
    "\n",
    "print(\"\\nNombres de las columnas:\")\n",
    "print(ageb_gdf.columns.tolist())\n",
    "\n",
    "print(\"\\nTipos de datos de las columnas (dtypes):\")\n",
    "print(ageb_gdf.dtypes)\n",
    "\n",
    "print(f\"\\nSistema de Coordenadas de Referencia (CRS) detectado: {ageb_gdf.crs}\")\n",
    "if ageb_gdf.crs is None:\n",
    "    print(\"ADVERTENCIA: El CRS del shapefile no fue detectado o no está definido.\")\n",
    "    print(\"Deberás consultar los metadatos en './datos/mgn/metadatos/' para encontrar el EPSG correcto\")\n",
    "    print(\"y luego asignarlo con: ageb_gdf.set_crs('EPSG:XXXX', inplace=True)\")\n",
    "\n",
    "COLUMNA_ID_AGEB_EN_SHAPEFILE = 'CVEGEO' \n",
    "\n",
    "if COLUMNA_ID_AGEB_EN_SHAPEFILE not in ageb_gdf.columns:\n",
    "    print(f\"\\nADVERTENCIA: La columna '{COLUMNA_ID_AGEB_EN_SHAPEFILE}' NO se encontró en el shapefile.\")\n",
    "    print(\"Revisa la lista de columnas impresas arriba y actualiza la variable 'COLUMNA_ID_AGEB_EN_SHAPEFILE'.\")\n",
    "else:\n",
    "    print(f\"\\nColumna clave de AGEB identificada: '{COLUMNA_ID_AGEB_EN_SHAPEFILE}'\")\n",
    "    print(f\"Primeros valores de la columna clave: {ageb_gdf[COLUMNA_ID_AGEB_EN_SHAPEFILE].head().tolist()}\")\n",
    "    print(f\"Número de valores únicos en la columna clave: {ageb_gdf[COLUMNA_ID_AGEB_EN_SHAPEFILE].nunique()}\")\n",
    "    if ageb_gdf[COLUMNA_ID_AGEB_EN_SHAPEFILE].nunique() != len(ageb_gdf):\n",
    "        print(\"ADVERTENCIA: El número de valores únicos en la columna clave NO coincide con el número total de AGEBs.\")\n",
    "        print(\"Esto podría indicar que la columna no es un identificador único o hay duplicados.\")\n"
   ]
  },
  {
   "cell_type": "code",
   "execution_count": null,
   "id": "5dae080e",
   "metadata": {},
   "outputs": [],
   "source": [
    "# --- 4. Visualización de Muestra (Opcional, para confirmar que son polígonos) ---\n",
    "print(\"\\nVisualizando una muestra aleatoria de 100 AGEBs (puede tardar)...\")\n",
    "try:\n",
    "    # Tomar una muestra para no graficar todo el país si es muy pesado\n",
    "    sample_agebs = ageb_gdf.sample(min(100, len(ageb_gdf))) \n",
    "    fig, ax = plt.subplots(1, 1, figsize=(10, 10))\n",
    "    sample_agebs.plot(ax=ax, edgecolor='black', facecolor='lightblue')\n",
    "    ax.set_title('Muestra Aleatoria de 100 Polígonos de AGEB')\n",
    "    plt.xlabel(\"Coordenada X (según CRS)\")\n",
    "    plt.ylabel(\"Coordenada Y (según CRS)\")\n",
    "    plt.show()\n",
    "    print(\"Visualización completada.\")\n",
    "except Exception as e:\n",
    "    print(f\"Error durante la visualización: {e}\")\n",
    "\n",
    "# --- 5. Resumen de Hallazgos ---\n",
    "print(\"\\n--- Resumen de la Exploración del Shapefile de AGEBs ---\")\n",
    "print(f\"Ruta del Shapefile: {RUTA_COMPLETA_SHP_AGEB}\")\n",
    "print(f\"Número total de AGEBs: {len(ageb_gdf)}\")\n",
    "print(f\"CRS: {ageb_gdf.crs}\")\n",
    "print(f\"Columna clave de AGEB identificada: '{COLUMNA_ID_AGEB_EN_SHAPEFILE}' (¡Verificar!)\")\n",
    "print(\"Columnas disponibles:\", ageb_gdf.columns.tolist())\n"
   ]
  }
 ],
 "metadata": {
  "kernelspec": {
   "display_name": ".venv",
   "language": "python",
   "name": "python3"
  },
  "language_info": {
   "codemirror_mode": {
    "name": "ipython",
    "version": 3
   },
   "file_extension": ".py",
   "mimetype": "text/x-python",
   "name": "python",
   "nbconvert_exporter": "python",
   "pygments_lexer": "ipython3",
   "version": "3.11.12"
  }
 },
 "nbformat": 4,
 "nbformat_minor": 5
}
