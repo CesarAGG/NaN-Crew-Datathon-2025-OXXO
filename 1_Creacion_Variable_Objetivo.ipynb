{
 "cells": [
  {
   "cell_type": "code",
   "execution_count": null,
   "id": "e9d1cb7b",
   "metadata": {},
   "outputs": [],
   "source": [
    "import polars as pl\n",
    "import pandas as pd"
   ]
  },
  {
   "cell_type": "code",
   "execution_count": null,
   "id": "c25c3012",
   "metadata": {},
   "outputs": [],
   "source": [
    "# --- Rutas (Asegúrate que existan) ---\n",
    "RUTA_DATOS_INPUT = './datos/'\n",
    "RUTA_DATOS_OUTPUT = './datos/output/'\n",
    "# Crear directorio de output si no existe\n",
    "import os\n",
    "if not os.path.exists(RUTA_DATOS_OUTPUT):\n",
    "    os.makedirs(RUTA_DATOS_OUTPUT)\n",
    "    print(f\"Directorio creado: {RUTA_DATOS_OUTPUT}\")"
   ]
  },
  {
   "cell_type": "code",
   "execution_count": null,
   "id": "2b3fc295",
   "metadata": {},
   "outputs": [],
   "source": [
    "# --- 1. Cargar los archivos ---\n",
    "try:\n",
    "    # Usar Polars para DIM_TIENDA y Meta_venta también para consistencia\n",
    "    dim_tienda_lf = pl.scan_csv(RUTA_DATOS_INPUT + 'DIM_TIENDA.csv')\n",
    "    lf_venta = pl.scan_csv(RUTA_DATOS_INPUT + 'venta.csv') # Asume encabezados TIENDA_ID, MES_ID, VENTA_TOTAL\n",
    "    meta_venta_lf = pl.scan_csv(RUTA_DATOS_INPUT + 'Meta_venta.csv')\n",
    "    print(\"Archivos CSV escaneados exitosamente con Polars.\")\n",
    "except Exception as e:\n",
    "    print(f\"Error al escanear archivos: {e}\")\n",
    "    raise\n",
    "\n",
    "# Verificar columnas en lf_venta para asegurar que VENTA_TOTAL y MES_ID existen\n",
    "schema_venta = lf_venta.collect_schema()\n",
    "if \"VENTA_TOTAL\" not in schema_venta.names() or \"MES_ID\" not in schema_venta.names() or \"TIENDA_ID\" not in schema_venta.names():\n",
    "    print(f\"Error: Columnas esperadas no encontradas en venta.csv. Columnas detectadas: {schema_venta.names()}\")\n",
    "    raise ValueError(\"Columnas faltantes en venta.csv\")\n",
    "\n",
    "\n",
    "# Filtrar solo tiendas de entrenamiento\n",
    "dim_tienda_train_lf = dim_tienda_lf.filter(pl.col(\"DATASET\") == \"TRAIN\")\n"
   ]
  },
  {
   "cell_type": "code",
   "execution_count": null,
   "id": "fffb73bd",
   "metadata": {},
   "outputs": [],
   "source": [
    "# --- 2. Procesar lf_venta para obtener ventas agregadas ---\n",
    "# Definir el periodo fijo: Enero 2023 a Julio 2024\n",
    "# Asumimos que MES_ID es un entero AAAAMM (ej. 202308)\n",
    "MES_INICIO_PERIODO = 202301 # Enero 2023\n",
    "MES_FIN_PERIODO = 202407   # Julio 2024\n",
    "\n",
    "print(f\"Periodo de ventas seleccionado: de {MES_INICIO_PERIODO} a {MES_FIN_PERIODO}\")\n",
    "\n",
    "# Filtrar por el periodo y calcular promedio\n",
    "# Primero, asegurar que MES_ID sea del tipo correcto para la comparación (ej. Int64)\n",
    "# Si MES_ID ya es numérico en el CSV, Polars usualmente lo infiere bien.\n",
    "# Si es string, hay que convertirlo: .with_columns(pl.col(\"MES_ID\").cast(pl.Int64))\n",
    "\n",
    "lf_venta_procesada = (\n",
    "    lf_venta\n",
    "    .filter(\n",
    "        (pl.col(\"MES_ID\") >= MES_INICIO_PERIODO) & (pl.col(\"MES_ID\") <= MES_FIN_PERIODO)\n",
    "    )\n",
    "    .group_by(\"TIENDA_ID\")\n",
    "    .agg(\n",
    "        pl.col(\"VENTA_TOTAL\").mean().alias(\"VENTA_PROMEDIO_MENSUAL\"),\n",
    "        pl.count().alias(\"N_MESES_CON_VENTA_EN_PERIODO\") # Para verificar cuántos meses tiene cada tienda\n",
    "    )\n",
    ")\n",
    "\n",
    "# Ejecutar el cálculo y obtener un DataFrame de Polars\n",
    "ventas_agregadas_lf = lf_venta_procesada.collect() # Ahora es un DataFrame\n",
    "print(\"\\nVentas promedio mensual calculadas para el periodo:\")\n",
    "print(ventas_agregadas_lf.head())\n",
    "print(\"\\nEstadísticas de N_MESES_CON_VENTA_EN_PERIODO:\")\n",
    "print(ventas_agregadas_lf[\"N_MESES_CON_VENTA_EN_PERIODO\"].describe())\n",
    "# Es importante ver si muchas tiendas tienen menos de 12 meses en este periodo."
   ]
  },
  {
   "cell_type": "code",
   "execution_count": null,
   "id": "09e439c5",
   "metadata": {},
   "outputs": [],
   "source": [
    "# --- 3. Unir (join) los DataFrames/LazyFrames ---\n",
    "# Necesitamos \"collect()\" en los LazyFrames antes de unirlos si no lo hemos hecho\n",
    "dim_tienda_train_df_collected = dim_tienda_train_lf.collect()\n",
    "meta_venta_df_collected = meta_venta_lf.collect()\n",
    "\n",
    "\n",
    "tiendas_con_ventas_lf = dim_tienda_train_df_collected.join(\n",
    "    ventas_agregadas_lf, on=\"TIENDA_ID\", how=\"left\"\n",
    ")\n",
    "\n",
    "tiendas_con_metas_lf = tiendas_con_ventas_lf.join(\n",
    "    meta_venta_df_collected, on=\"ENTORNO_DES\", how=\"left\"\n",
    ")\n",
    "\n",
    "# Manejar NaNs\n",
    "# Tiendas sin ventas en el periodo seleccionado tendrán VENTA_PROMEDIO_MENSUAL = NaN\n",
    "# Tiendas cuyo ENTORNO_DES no esté en Meta_venta.csv tendrán Meta_venta = NaN\n",
    "print(f\"\\nNaNs en VENTA_PROMEDIO_MENSUAL después de joins: {tiendas_con_metas_lf['VENTA_PROMEDIO_MENSUAL'].is_null().sum()}\")\n",
    "print(f\"NaNs en Meta_venta después de joins: {tiendas_con_metas_lf['Meta_venta'].is_null().sum()}\")\n",
    "\n",
    "tiendas_completas_lf = tiendas_con_metas_lf.drop_nulls(subset=['VENTA_PROMEDIO_MENSUAL', 'Meta_venta'])\n",
    "print(f\"Tiendas después de eliminar NaNs en ventas/metas: {tiendas_completas_lf.height}\")\n"
   ]
  },
  {
   "cell_type": "code",
   "execution_count": null,
   "id": "c1a24a2c",
   "metadata": {},
   "outputs": [],
   "source": [
    "# --- 4. Crear la variable EXITO ---\n",
    "if tiendas_completas_lf.height > 0:\n",
    "    tiendas_completas_lf = tiendas_completas_lf.with_columns(\n",
    "        EXITO = (pl.col('VENTA_PROMEDIO_MENSUAL') >= pl.col('Meta_venta')).cast(pl.Int8)\n",
    "    )\n",
    "    print(\"\\nVariable EXITO creada.\")\n",
    "    print(tiendas_completas_lf.select(['TIENDA_ID', 'VENTA_PROMEDIO_MENSUAL', 'Meta_venta', 'N_MESES_CON_VENTA_EN_PERIODO', 'EXITO']).head())\n",
    "    print(\"\\nDistribución de la variable EXITO:\")\n",
    "    print(tiendas_completas_lf['EXITO'].value_counts(sort=True))\n",
    "else:\n",
    "    print(\"DataFrame 'tiendas_completas_lf' está vacío. No se pudo crear la variable EXITO.\")\n",
    "    raise ValueError(\"No se pudieron generar datos completos para crear la variable EXITO.\")"
   ]
  },
  {
   "cell_type": "code",
   "execution_count": null,
   "id": "3231e046",
   "metadata": {},
   "outputs": [],
   "source": [
    "# --- 5. Seleccionar columnas relevantes y guardar ---\n",
    "columnas_a_guardar = ['TIENDA_ID', 'PLAZA_CVE', 'NIVELSOCIOECONOMICO_DES', \n",
    "                      'ENTORNO_DES', 'MTS2VENTAS_NUM', 'PUERTASREFRIG_NUM', \n",
    "                      'CAJONESESTACIONAMIENTO_NUM', 'LATITUD_NUM', 'LONGITUD_NUM', \n",
    "                      'SEGMENTO_MAESTRO_DESC', 'LID_UBICACION_TIENDA', 'EXITO',\n",
    "                      'VENTA_PROMEDIO_MENSUAL', 'Meta_venta', 'N_MESES_CON_VENTA_EN_PERIODO']\n",
    "\n",
    "columnas_existentes_final = [col for col in columnas_a_guardar if col in tiendas_completas_lf.columns]\n",
    "datos_train_objetivo_final_lf = tiendas_completas_lf.select(columnas_existentes_final)\n",
    "\n",
    "try:\n",
    "    datos_train_objetivo_final_lf.write_csv(RUTA_DATOS_OUTPUT + 'datos_train_con_objetivo.csv')\n",
    "    print(f\"\\nArchivo '{RUTA_DATOS_OUTPUT}datos_train_con_objetivo.csv' guardado exitosamente.\")\n",
    "    print(f\"Número de tiendas en el archivo final: {datos_train_objetivo_final_lf.height}\")\n",
    "except Exception as e:\n",
    "    print(f\"Error al guardar el archivo: {e}\")"
   ]
  }
 ],
 "metadata": {
  "kernelspec": {
   "display_name": ".venv",
   "language": "python",
   "name": "python3"
  },
  "language_info": {
   "codemirror_mode": {
    "name": "ipython",
    "version": 3
   },
   "file_extension": ".py",
   "mimetype": "text/x-python",
   "name": "python",
   "nbconvert_exporter": "python",
   "pygments_lexer": "ipython3",
   "version": "3.11.12"
  }
 },
 "nbformat": 4,
 "nbformat_minor": 5
}
